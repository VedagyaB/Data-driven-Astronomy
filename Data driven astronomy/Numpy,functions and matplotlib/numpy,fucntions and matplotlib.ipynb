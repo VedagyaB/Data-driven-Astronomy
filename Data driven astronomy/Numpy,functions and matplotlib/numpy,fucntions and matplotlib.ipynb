{
 "cells": [
  {
   "cell_type": "code",
   "execution_count": 1,
   "id": "207ac0ca",
   "metadata": {},
   "outputs": [],
   "source": [
    "#Use the data from Beehive_data.csv to find the distance to the Beehive Cluster"
   ]
  },
  {
   "cell_type": "code",
   "execution_count": 2,
   "id": "891ad662",
   "metadata": {},
   "outputs": [],
   "source": [
    "import numpy as np"
   ]
  },
  {
   "cell_type": "code",
   "execution_count": 4,
   "id": "db99cfac",
   "metadata": {},
   "outputs": [
    {
     "name": "stdout",
     "output_type": "stream",
     "text": [
      "159.5464083490186\n"
     ]
    }
   ],
   "source": [
    "beehive_data = np.loadtxt('Beehive_data.csv', delimiter=',')\n",
    "indices = np.where(beehive_data[:, 2]>90) #The third column of the 2D array contains the probabilities\n",
    "high_prob = beehive_data[indices] #This now selects only the high probability stars\n",
    "logd = (high_prob[:,0] + 2.5*high_prob[:,1] + 0.17)/5\n",
    "d=10**logd\n",
    "\n",
    "sum_of_dist = 0\n",
    "for i in d: #Here we take the sum of all elements in the array\n",
    "    sum_of_dist = sum_of_dist + i\n",
    "dist_of_cluster= sum_of_dist/d.size\n",
    "\n",
    "logd_full = (beehive_data[:,0] + 2.5*beehive_data[:,1] + 0.17)/5 \n",
    "d_full = 10**logd_full\n",
    "weighted_dist = d_full * beehive_data[:,2] #Using the elementwise multiplication property\n",
    "weighted_sum = 0\n",
    "sum_of_weights = 0\n",
    "for i in range(0, weighted_dist.size):\n",
    "    weighted_sum = weighted_sum + weighted_dist[i] #Numerator in the weighted average formula\n",
    "    sum_of_weights = sum_of_weights + beehive_data[i,2] #Denominator in the weighted average formula\n",
    "weighted_dist_of_cluster = weighted_sum/sum_of_weights #Answer is Numerator/Denominator\n",
    "print(weighted_dist_of_cluster)\n"
   ]
  },
  {
   "cell_type": "code",
   "execution_count": 5,
   "id": "4f995356",
   "metadata": {},
   "outputs": [],
   "source": [
    "# You are given a 'galaxies.csv' file which contains data for galaxies observed by the Sloan Digital Sky Survey(SDSS) - Mapping Nearby Galaxies At Apache Point Observatory(MaNGA). The file contains basic properties of each galaxy observed, namely the following:\n",
    "\n",
    "# serialno - A Serial Number we have assigned to each galaxy\n",
    "# objra (in degrees) - The Right Ascension of the galaxy\n",
    "# objdec (in degrees) - The Declination of the galaxy\n",
    "# redshift - The observed redshift in the spectra of the galaxy"
   ]
  },
  {
   "cell_type": "code",
   "execution_count": 6,
   "id": "ae14cf67",
   "metadata": {},
   "outputs": [
    {
     "ename": "FileNotFoundError",
     "evalue": "galaxies.csv not found.",
     "output_type": "error",
     "traceback": [
      "\u001b[1;31m---------------------------------------------------------------------------\u001b[0m",
      "\u001b[1;31mFileNotFoundError\u001b[0m                         Traceback (most recent call last)",
      "Cell \u001b[1;32mIn[6], line 1\u001b[0m\n\u001b[1;32m----> 1\u001b[0m serialno, objra, objdec, redshift \u001b[38;5;241m=\u001b[39m \u001b[43mnp\u001b[49m\u001b[38;5;241;43m.\u001b[39;49m\u001b[43mloadtxt\u001b[49m\u001b[43m(\u001b[49m\u001b[38;5;124;43m'\u001b[39;49m\u001b[38;5;124;43mgalaxies.csv\u001b[39;49m\u001b[38;5;124;43m'\u001b[39;49m\u001b[43m,\u001b[49m\u001b[43m \u001b[49m\u001b[43mdelimiter\u001b[49m\u001b[43m \u001b[49m\u001b[38;5;241;43m=\u001b[39;49m\u001b[43m \u001b[49m\u001b[38;5;124;43m'\u001b[39;49m\u001b[38;5;124;43m,\u001b[39;49m\u001b[38;5;124;43m'\u001b[39;49m\u001b[43m,\u001b[49m\u001b[43m \u001b[49m\u001b[43munpack\u001b[49m\u001b[43m \u001b[49m\u001b[38;5;241;43m=\u001b[39;49m\u001b[43m \u001b[49m\u001b[38;5;28;43;01mTrue\u001b[39;49;00m\u001b[43m)\u001b[49m\n\u001b[0;32m      2\u001b[0m H0 \u001b[38;5;241m=\u001b[39m \u001b[38;5;241m70\u001b[39m \u001b[38;5;66;03m#km/s/Mpc\u001b[39;00m\n\u001b[0;32m      3\u001b[0m c \u001b[38;5;241m=\u001b[39m \u001b[38;5;241m3E5\u001b[39m \u001b[38;5;66;03m#km/s\u001b[39;00m\n",
      "File \u001b[1;32m~\\AppData\\Roaming\\Python\\Python310\\site-packages\\numpy\\lib\\npyio.py:1356\u001b[0m, in \u001b[0;36mloadtxt\u001b[1;34m(fname, dtype, comments, delimiter, converters, skiprows, usecols, unpack, ndmin, encoding, max_rows, quotechar, like)\u001b[0m\n\u001b[0;32m   1353\u001b[0m \u001b[38;5;28;01mif\u001b[39;00m \u001b[38;5;28misinstance\u001b[39m(delimiter, \u001b[38;5;28mbytes\u001b[39m):\n\u001b[0;32m   1354\u001b[0m     delimiter \u001b[38;5;241m=\u001b[39m delimiter\u001b[38;5;241m.\u001b[39mdecode(\u001b[38;5;124m'\u001b[39m\u001b[38;5;124mlatin1\u001b[39m\u001b[38;5;124m'\u001b[39m)\n\u001b[1;32m-> 1356\u001b[0m arr \u001b[38;5;241m=\u001b[39m \u001b[43m_read\u001b[49m\u001b[43m(\u001b[49m\u001b[43mfname\u001b[49m\u001b[43m,\u001b[49m\u001b[43m \u001b[49m\u001b[43mdtype\u001b[49m\u001b[38;5;241;43m=\u001b[39;49m\u001b[43mdtype\u001b[49m\u001b[43m,\u001b[49m\u001b[43m \u001b[49m\u001b[43mcomment\u001b[49m\u001b[38;5;241;43m=\u001b[39;49m\u001b[43mcomment\u001b[49m\u001b[43m,\u001b[49m\u001b[43m \u001b[49m\u001b[43mdelimiter\u001b[49m\u001b[38;5;241;43m=\u001b[39;49m\u001b[43mdelimiter\u001b[49m\u001b[43m,\u001b[49m\n\u001b[0;32m   1357\u001b[0m \u001b[43m            \u001b[49m\u001b[43mconverters\u001b[49m\u001b[38;5;241;43m=\u001b[39;49m\u001b[43mconverters\u001b[49m\u001b[43m,\u001b[49m\u001b[43m \u001b[49m\u001b[43mskiplines\u001b[49m\u001b[38;5;241;43m=\u001b[39;49m\u001b[43mskiprows\u001b[49m\u001b[43m,\u001b[49m\u001b[43m \u001b[49m\u001b[43musecols\u001b[49m\u001b[38;5;241;43m=\u001b[39;49m\u001b[43musecols\u001b[49m\u001b[43m,\u001b[49m\n\u001b[0;32m   1358\u001b[0m \u001b[43m            \u001b[49m\u001b[43munpack\u001b[49m\u001b[38;5;241;43m=\u001b[39;49m\u001b[43munpack\u001b[49m\u001b[43m,\u001b[49m\u001b[43m \u001b[49m\u001b[43mndmin\u001b[49m\u001b[38;5;241;43m=\u001b[39;49m\u001b[43mndmin\u001b[49m\u001b[43m,\u001b[49m\u001b[43m \u001b[49m\u001b[43mencoding\u001b[49m\u001b[38;5;241;43m=\u001b[39;49m\u001b[43mencoding\u001b[49m\u001b[43m,\u001b[49m\n\u001b[0;32m   1359\u001b[0m \u001b[43m            \u001b[49m\u001b[43mmax_rows\u001b[49m\u001b[38;5;241;43m=\u001b[39;49m\u001b[43mmax_rows\u001b[49m\u001b[43m,\u001b[49m\u001b[43m \u001b[49m\u001b[43mquote\u001b[49m\u001b[38;5;241;43m=\u001b[39;49m\u001b[43mquotechar\u001b[49m\u001b[43m)\u001b[49m\n\u001b[0;32m   1361\u001b[0m \u001b[38;5;28;01mreturn\u001b[39;00m arr\n",
      "File \u001b[1;32m~\\AppData\\Roaming\\Python\\Python310\\site-packages\\numpy\\lib\\npyio.py:975\u001b[0m, in \u001b[0;36m_read\u001b[1;34m(fname, delimiter, comment, quote, imaginary_unit, usecols, skiplines, max_rows, converters, ndmin, unpack, dtype, encoding)\u001b[0m\n\u001b[0;32m    973\u001b[0m     fname \u001b[38;5;241m=\u001b[39m os\u001b[38;5;241m.\u001b[39mfspath(fname)\n\u001b[0;32m    974\u001b[0m \u001b[38;5;28;01mif\u001b[39;00m \u001b[38;5;28misinstance\u001b[39m(fname, \u001b[38;5;28mstr\u001b[39m):\n\u001b[1;32m--> 975\u001b[0m     fh \u001b[38;5;241m=\u001b[39m \u001b[43mnp\u001b[49m\u001b[38;5;241;43m.\u001b[39;49m\u001b[43mlib\u001b[49m\u001b[38;5;241;43m.\u001b[39;49m\u001b[43m_datasource\u001b[49m\u001b[38;5;241;43m.\u001b[39;49m\u001b[43mopen\u001b[49m\u001b[43m(\u001b[49m\u001b[43mfname\u001b[49m\u001b[43m,\u001b[49m\u001b[43m \u001b[49m\u001b[38;5;124;43m'\u001b[39;49m\u001b[38;5;124;43mrt\u001b[39;49m\u001b[38;5;124;43m'\u001b[39;49m\u001b[43m,\u001b[49m\u001b[43m \u001b[49m\u001b[43mencoding\u001b[49m\u001b[38;5;241;43m=\u001b[39;49m\u001b[43mencoding\u001b[49m\u001b[43m)\u001b[49m\n\u001b[0;32m    976\u001b[0m     \u001b[38;5;28;01mif\u001b[39;00m encoding \u001b[38;5;129;01mis\u001b[39;00m \u001b[38;5;28;01mNone\u001b[39;00m:\n\u001b[0;32m    977\u001b[0m         encoding \u001b[38;5;241m=\u001b[39m \u001b[38;5;28mgetattr\u001b[39m(fh, \u001b[38;5;124m'\u001b[39m\u001b[38;5;124mencoding\u001b[39m\u001b[38;5;124m'\u001b[39m, \u001b[38;5;124m'\u001b[39m\u001b[38;5;124mlatin1\u001b[39m\u001b[38;5;124m'\u001b[39m)\n",
      "File \u001b[1;32m~\\AppData\\Roaming\\Python\\Python310\\site-packages\\numpy\\lib\\_datasource.py:193\u001b[0m, in \u001b[0;36mopen\u001b[1;34m(path, mode, destpath, encoding, newline)\u001b[0m\n\u001b[0;32m    156\u001b[0m \u001b[38;5;250m\u001b[39m\u001b[38;5;124;03m\"\"\"\u001b[39;00m\n\u001b[0;32m    157\u001b[0m \u001b[38;5;124;03mOpen `path` with `mode` and return the file object.\u001b[39;00m\n\u001b[0;32m    158\u001b[0m \n\u001b[1;32m   (...)\u001b[0m\n\u001b[0;32m    189\u001b[0m \n\u001b[0;32m    190\u001b[0m \u001b[38;5;124;03m\"\"\"\u001b[39;00m\n\u001b[0;32m    192\u001b[0m ds \u001b[38;5;241m=\u001b[39m DataSource(destpath)\n\u001b[1;32m--> 193\u001b[0m \u001b[38;5;28;01mreturn\u001b[39;00m \u001b[43mds\u001b[49m\u001b[38;5;241;43m.\u001b[39;49m\u001b[43mopen\u001b[49m\u001b[43m(\u001b[49m\u001b[43mpath\u001b[49m\u001b[43m,\u001b[49m\u001b[43m \u001b[49m\u001b[43mmode\u001b[49m\u001b[43m,\u001b[49m\u001b[43m \u001b[49m\u001b[43mencoding\u001b[49m\u001b[38;5;241;43m=\u001b[39;49m\u001b[43mencoding\u001b[49m\u001b[43m,\u001b[49m\u001b[43m \u001b[49m\u001b[43mnewline\u001b[49m\u001b[38;5;241;43m=\u001b[39;49m\u001b[43mnewline\u001b[49m\u001b[43m)\u001b[49m\n",
      "File \u001b[1;32m~\\AppData\\Roaming\\Python\\Python310\\site-packages\\numpy\\lib\\_datasource.py:533\u001b[0m, in \u001b[0;36mDataSource.open\u001b[1;34m(self, path, mode, encoding, newline)\u001b[0m\n\u001b[0;32m    530\u001b[0m     \u001b[38;5;28;01mreturn\u001b[39;00m _file_openers[ext](found, mode\u001b[38;5;241m=\u001b[39mmode,\n\u001b[0;32m    531\u001b[0m                               encoding\u001b[38;5;241m=\u001b[39mencoding, newline\u001b[38;5;241m=\u001b[39mnewline)\n\u001b[0;32m    532\u001b[0m \u001b[38;5;28;01melse\u001b[39;00m:\n\u001b[1;32m--> 533\u001b[0m     \u001b[38;5;28;01mraise\u001b[39;00m \u001b[38;5;167;01mFileNotFoundError\u001b[39;00m(\u001b[38;5;124mf\u001b[39m\u001b[38;5;124m\"\u001b[39m\u001b[38;5;132;01m{\u001b[39;00mpath\u001b[38;5;132;01m}\u001b[39;00m\u001b[38;5;124m not found.\u001b[39m\u001b[38;5;124m\"\u001b[39m)\n",
      "\u001b[1;31mFileNotFoundError\u001b[0m: galaxies.csv not found."
     ]
    }
   ],
   "source": [
    "serialno, objra, objdec, redshift = np.loadtxt('galaxies.csv', delimiter = ',', unpack = True)\n",
    "H0 = 70 #km/s/Mpc\n",
    "c = 3E5 #km/s\n",
    "\n",
    "def distance_from_z(z):\n",
    "    return z*c/H0 #distance in Mpc\n",
    "\n",
    "def get_distance(num): #num denotes the serialno of the galaxy\n",
    "    index = np.where(serialno == num)[0][0] #np.where returns a tuple, whose first element is the array of required indices\n",
    "    return distance_from_z(redshift[index])\n",
    "serial = 1000\n",
    "\n",
    "def distance_to_z(distance): #distance in Mpc\n",
    "    return H0*distance/c\n",
    "\n",
    "def count_galaxies(distance1, distance2): #distances in Mpc, distance1 should be less than or equal to distance2\n",
    "    z1 = distance_to_z(distance1)\n",
    "    z2 = distance_to_z(distance2)\n",
    "    indices = np.where(np.logical_and(redshift>=z1, redshift<=z2))\n",
    "    return len(indices[0]) #indices is a tuple, we need the size of its first element (the array of required indices)\n",
    "dist1 = 200\n",
    "dist2 = 210\n",
    "print(f\"Number of Galaxies observed by MaNGA between {dist1} Mpc and {dist2} Mpc is {count_galaxies(200,210)}\")\n",
    "\n",
    "def cosine_law(side1, side2, cosine_value):\n",
    "    return (side1**2 + side2**2 - 2*side1*side2*cosine_value)**0.5\n",
    "\n",
    "def cosine_angular_separation(coordinate1, coordinate2): #angular separation between 2 galaxies, given their ra, dec values\n",
    "    ra1 = coordinate1[0]*np.pi/180\n",
    "    dec1 = coordinate1[1]*np.pi/180\n",
    "    ra2 = coordinate2[0]*np.pi/180\n",
    "    dec2 = coordinate2[1]*np.pi/180\n",
    "    cosine_value = np.sin(dec1)*np.sin(dec2) + np.cos(dec1)*np.cos(dec2)*np.cos(ra1-ra2)\n",
    "    return cosine_value\n",
    "\n",
    "def get_coordinates(num): #get ra and dec of a galaxy, given its serialnum\n",
    "    return objra[np.where(serialno == num)], objdec[np.where(serialno == num)]\n",
    "\n",
    "def get_separation(num1, num2): #get distance between two galaxies, given their serial numbers\n",
    "    coordinate1 = (get_coordinates(num1)[0][0], get_coordinates(num1)[1][0])\n",
    "    coordinate2 = (get_coordinates(num2)[0][0], get_coordinates(num2)[1][0])\n",
    "    cosine_value = cosine_angular_separation(coordinate1, coordinate2)\n",
    "    side1 = get_distance(num1)\n",
    "    side2 = get_distance(num2)\n",
    "    separation = cosine_law(side1, side2, cosine_value)\n",
    "    return separation\n",
    "serial1, serial2 = 1000, 2000\n",
    "print(f\"The distance between Galaxies {serial1} and {serial2} is {get_separation(serial1, serial2)} Mpc\") \n"
   ]
  },
  {
   "cell_type": "code",
   "execution_count": null,
   "id": "ba3f3ddd",
   "metadata": {},
   "outputs": [],
   "source": []
  }
 ],
 "metadata": {
  "kernelspec": {
   "display_name": "Python 3 (ipykernel)",
   "language": "python",
   "name": "python3"
  },
  "language_info": {
   "codemirror_mode": {
    "name": "ipython",
    "version": 3
   },
   "file_extension": ".py",
   "mimetype": "text/x-python",
   "name": "python",
   "nbconvert_exporter": "python",
   "pygments_lexer": "ipython3",
   "version": "3.10.6"
  }
 },
 "nbformat": 4,
 "nbformat_minor": 5
}
