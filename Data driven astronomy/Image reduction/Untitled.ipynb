{
 "cells": [
  {
   "cell_type": "code",
   "execution_count": 1,
   "id": "64269997",
   "metadata": {},
   "outputs": [],
   "source": [
    "%matplotlib inline\n",
    "\n",
    "import numpy as np\n",
    "from astropy.io import fits\n",
    "from astropy.stats import sigma_clipped_stats\n",
    "import matplotlib.pyplot as plt\n",
    "import glob\n",
    "import os"
   ]
  },
  {
   "cell_type": "code",
   "execution_count": 2,
   "id": "f6d1b817",
   "metadata": {},
   "outputs": [],
   "source": [
    "# Plot the histogram of the background (as you did in the Astropy1 tutorial). Do you see any changes? Can you track down in which step the change came about?\n",
    "# There are a lot more aspects to image reduction than the steps here. Read up about these steps (which include cosmic ray removal, astrometry and possibly stacking) in the resources given below.\n",
    "# The main purpose of the GROWTH-India Telescope is to find transients. These can be anything from Supernova (and other magnitudes of Novae) to afterglows of Gamma Ray Bursts, to Electromagnetic Counterparts of Gravitational Wave Sources. To keep in line with this, let us try to use a technique known as Image Subtraction, albeit with some simplifications (OK, that was a lie. Lots of simplification). Read more below"
   ]
  },
  {
   "cell_type": "code",
   "execution_count": null,
   "id": "e37fb9ff",
   "metadata": {},
   "outputs": [],
   "source": [
    "# This returns the current path of the folder we are in\n",
    "curpath = os.path.abspath('.')                  \n",
    "# If you have extracted correctly, there should be a sub-folder named Bias, and you should get 3 files in the next cell\n",
    "biasFolder = os.path.join(curpath, 'bias')\n",
    "biasList = glob.glob(os.path.join(biasFolder,'*fits'))\n",
    "\n",
    "numBiasFiles = len(biasList)\n",
    "print('Found %d bias files'%numBiasFiles)\n",
    "biasImages = np.zeros((4108, 4096, numBiasFiles))\n",
    "\n",
    "for i in range(numBiasFiles):\n",
    "        biasImages[:,:,i] = fits.open(biasList[i])[0].data\n",
    "# This is to get a good scale on the plot, nothing more\n",
    "mean, median, std = sigma_clipped_stats(biasImages[:,:,0])\n",
    "\n",
    "plt.figure(figsize=(8,8))\n",
    "plt.imshow(biasImages[:,:,0], vmin = median - 3*std, vmax = median + 3*std)\n",
    "plt.colorbar()\n",
    "masterBias = np.median(biasImages, axis=2)\n",
    "\n",
    "mean, median, std = sigma_clipped_stats(masterBias)\n",
    "\n",
    "plt.figure(figsize=(8,8))\n",
    "plt.imshow(masterBias, vmin = median - 3*std, vmax = median + 3*std)\n",
    "plt.colorbar()\n",
    "\n",
    "Flat = fits.open('Flat.fits')[1].data\n",
    "\n",
    "masterFlat = Flat - masterBias\n",
    "master_flat_median = np.median(masterFlat)\n",
    "\n",
    "# This re-scaling is so that we get a reasonable range in the final processed image. \n",
    "masterFlat = masterFlat/master_flat_median\n",
    "\n",
    "\n",
    "mean, median, std = sigma_clipped_stats(masterFlat)\n",
    "plt.figure(figsize=(8,8))\n",
    "plt.imshow(masterFlat, vmin = median - 3*std, vmax = median + 3*std)\n",
    "plt.colorbar()\n",
    "\n",
    "rawHDU = fits.open('Messier3_raw.fits')[0]\n",
    "rawData = rawHDU.data\n",
    "\n",
    "# Let us have a look at the image:\n",
    "plt.figure(figsize = (8,8))\n",
    "mean, median, std = sigma_clipped_stats(rawData)\n",
    "plt.imshow(rawData, vmin = median - 3*std, vmax = median + 3*std)\n",
    "plt.colorbar()\n",
    "\n",
    "\n",
    "rawHeader = rawHDU.header\n",
    "\n",
    "procData = (rawData - masterBias) / masterFlat\n",
    "\n",
    "procHDU = fits.PrimaryHDU(procData)\n",
    "procHDU.header = rawHeader\n",
    "\n",
    "procHDU.writeto('Messier3.proc.fits', overwrite=True)\n",
    "M3_HDU = fits.open('Messier3.proc.fits')[0]\n",
    "M3_data = M3_HDU.data\n",
    "\n",
    "plt.figure(figsize = (8,8))\n",
    "mean, median, std = sigma_clipped_stats(M3_data)\n",
    "plt.imshow(M3_data, vmin = median - 3*std, vmax = median + 3*std, origin = \"lower\")\n",
    "plt.colorbar()"
   ]
  },
  {
   "cell_type": "code",
   "execution_count": 3,
   "id": "2297ea0f",
   "metadata": {},
   "outputs": [
    {
     "ename": "NameError",
     "evalue": "name 'masterBias' is not defined",
     "output_type": "error",
     "traceback": [
      "\u001b[1;31m---------------------------------------------------------------------------\u001b[0m",
      "\u001b[1;31mNameError\u001b[0m                                 Traceback (most recent call last)",
      "Cell \u001b[1;32mIn[3], line 12\u001b[0m\n\u001b[0;32m      9\u001b[0m     \u001b[38;5;28;01mreturn\u001b[39;00m bins, num_pixels\n\u001b[0;32m     10\u001b[0m \u001b[38;5;66;03m#Lets look at the background counts for the master bias frame\u001b[39;00m\n\u001b[1;32m---> 12\u001b[0m mean, median, std \u001b[38;5;241m=\u001b[39m sigma_clipped_stats(\u001b[43mmasterBias\u001b[49m)\n\u001b[0;32m     13\u001b[0m bins, num_pixels \u001b[38;5;241m=\u001b[39m get_background_histogram(masterBias,median \u001b[38;5;241m-\u001b[39m \u001b[38;5;241m5\u001b[39m\u001b[38;5;241m*\u001b[39mstd, median \u001b[38;5;241m+\u001b[39m \u001b[38;5;241m5\u001b[39m\u001b[38;5;241m*\u001b[39mstd) \u001b[38;5;66;03m#background counts, not including cosmic ray counts\u001b[39;00m\n\u001b[0;32m     14\u001b[0m plt\u001b[38;5;241m.\u001b[39mfigure(figsize \u001b[38;5;241m=\u001b[39m (\u001b[38;5;241m10\u001b[39m,\u001b[38;5;241m6\u001b[39m))\n",
      "\u001b[1;31mNameError\u001b[0m: name 'masterBias' is not defined"
     ]
    }
   ],
   "source": [
    "def get_background_histogram(array, min_count, max_count):\n",
    "    \"\"\"\n",
    "        array is the numpy array that contains the counts for each pixel\n",
    "        the bins for the histogram will be np.arange(min_count, max_count, 1)\n",
    "    \"\"\"\n",
    "    flattened_array = array.flatten()\n",
    "    num_pixels, bin_edges = np.histogram(flattened_array, bins=np.arange(min_count, max_count, 1))\n",
    "    bins = 0.5*(bin_edges[1:] + bin_edges[:-1])\n",
    "    return bins, num_pixels\n",
    "#Lets look at the background counts for the master bias frame\n",
    "\n",
    "mean, median, std = sigma_clipped_stats(masterBias)\n",
    "bins, num_pixels = get_background_histogram(masterBias,median - 5*std, median + 5*std) #background counts, not including cosmic ray counts\n",
    "plt.figure(figsize = (10,6))\n",
    "plt.title(\"Background counts, not including cosmic ray counts, for master bias frame\")\n",
    "plt.xlabel('Counts')\n",
    "plt.ylabel('Number of Pixels')\n",
    "plt.plot(bins, num_pixels)\n",
    "plt.show()"
   ]
  },
  {
   "cell_type": "code",
   "execution_count": null,
   "id": "97327fbb",
   "metadata": {},
   "outputs": [],
   "source": [
    "#Lets look at the background counts for the master flats frame\n",
    "\n",
    "my_masterFlat = masterFlat*master_flat_median #rescaling the master flat by multiplying by the median\n",
    "                                              #master_flat_median is the median of the original master flat, the one before rescaling\n",
    "                                              #the variable master_flat_median is defined in the cell just below the heading 'Creating a Master Flat frame'  \n",
    "\n",
    "mean, median, std = sigma_clipped_stats(my_masterFlat)\n",
    "bins, num_pixels = get_background_histogram(my_masterFlat,mean-5*std,mean+5*std) #background counts, not including cosmic ray counts\n",
    "plt.figure(figsize = (10,6))\n",
    "plt.title(\"Background counts, not including cosmic ray counts, for master flat frame\")\n",
    "plt.xlabel('Counts')\n",
    "plt.ylabel('Number of Pixels')\n",
    "plt.plot(bins, num_pixels)\n",
    "plt.show()"
   ]
  }
 ],
 "metadata": {
  "kernelspec": {
   "display_name": "Python 3 (ipykernel)",
   "language": "python",
   "name": "python3"
  },
  "language_info": {
   "codemirror_mode": {
    "name": "ipython",
    "version": 3
   },
   "file_extension": ".py",
   "mimetype": "text/x-python",
   "name": "python",
   "nbconvert_exporter": "python",
   "pygments_lexer": "ipython3",
   "version": "3.10.6"
  }
 },
 "nbformat": 4,
 "nbformat_minor": 5
}
